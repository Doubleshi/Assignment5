{
 "cells": [
  {
   "cell_type": "code",
   "execution_count": null,
   "id": "143d308c",
   "metadata": {},
   "outputs": [],
   "source": [
    "# VARIABLE"
   ]
  },
  {
   "cell_type": "code",
   "execution_count": null,
   "id": "828cd2e0",
   "metadata": {},
   "outputs": [],
   "source": [
    "# max(variable)"
   ]
  },
  {
   "cell_type": "code",
   "execution_count": null,
   "id": "9c5675b9",
   "metadata": {},
   "outputs": [],
   "source": [
    "# min(variable)"
   ]
  },
  {
   "cell_type": "code",
   "execution_count": null,
   "id": "f3e95bdd",
   "metadata": {},
   "outputs": [],
   "source": [
    "# len(variable) ->number [get the total number in the variable]"
   ]
  },
  {
   "cell_type": "code",
   "execution_count": null,
   "id": "db24a539",
   "metadata": {},
   "outputs": [],
   "source": [
    "# .find('value')->know the value find the number"
   ]
  },
  {
   "cell_type": "code",
   "execution_count": null,
   "id": "83a06b2d",
   "metadata": {},
   "outputs": [],
   "source": [
    "# index('value')->know the value find the number"
   ]
  },
  {
   "cell_type": "code",
   "execution_count": null,
   "id": "7d30d58e",
   "metadata": {},
   "outputs": [],
   "source": [
    "# string [number]->know the number call out the value"
   ]
  },
  {
   "cell_type": "code",
   "execution_count": null,
   "id": "2e6a8ebd",
   "metadata": {},
   "outputs": [],
   "source": [
    "# print(string, integer)"
   ]
  },
  {
   "cell_type": "code",
   "execution_count": null,
   "id": "fbb1f329",
   "metadata": {},
   "outputs": [],
   "source": []
  },
  {
   "cell_type": "code",
   "execution_count": 6,
   "id": "ca088cf8",
   "metadata": {},
   "outputs": [],
   "source": [
    "# LIST"
   ]
  },
  {
   "cell_type": "code",
   "execution_count": null,
   "id": "d1c3199c",
   "metadata": {},
   "outputs": [],
   "source": [
    "# list[number] ->value [find the value in that index number]"
   ]
  },
  {
   "cell_type": "code",
   "execution_count": 4,
   "id": "582c194a",
   "metadata": {},
   "outputs": [],
   "source": [
    "# list.index('value') -> number [find the location of a element in a list]"
   ]
  },
  {
   "cell_type": "code",
   "execution_count": null,
   "id": "3e92d265",
   "metadata": {},
   "outputs": [],
   "source": [
    "#.append(variable)"
   ]
  },
  {
   "cell_type": "code",
   "execution_count": null,
   "id": "e70184c9",
   "metadata": {},
   "outputs": [],
   "source": [
    "# import random; random.choice(list)"
   ]
  },
  {
   "cell_type": "code",
   "execution_count": null,
   "id": "62d0803f",
   "metadata": {},
   "outputs": [],
   "source": [
    "# import random; random.randint(start,stop)"
   ]
  },
  {
   "cell_type": "code",
   "execution_count": null,
   "id": "0063d52a",
   "metadata": {},
   "outputs": [],
   "source": [
    "# import random; random.sample(list,number)"
   ]
  },
  {
   "cell_type": "code",
   "execution_count": null,
   "id": "e57664cf",
   "metadata": {},
   "outputs": [],
   "source": [
    "# csv data file"
   ]
  },
  {
   "cell_type": "code",
   "execution_count": null,
   "id": "4c2f8f07",
   "metadata": {},
   "outputs": [],
   "source": [
    "# import csv"
   ]
  },
  {
   "cell_type": "code",
   "execution_count": 1,
   "id": "42c13c5b",
   "metadata": {},
   "outputs": [],
   "source": [
    "# with open(filename.csv, newline='')as csvfile:"
   ]
  },
  {
   "cell_type": "code",
   "execution_count": 2,
   "id": "d753b14f",
   "metadata": {},
   "outputs": [],
   "source": [
    "# csv_reader = csv.reader(csvfile)"
   ]
  },
  {
   "cell_type": "code",
   "execution_count": 3,
   "id": "f20c2018",
   "metadata": {},
   "outputs": [],
   "source": [
    "# headers = next(csv_reader)"
   ]
  },
  {
   "cell_type": "code",
   "execution_count": null,
   "id": "a049aa92",
   "metadata": {},
   "outputs": [],
   "source": [
    "# for row in csv_reader [every row is a list]"
   ]
  },
  {
   "cell_type": "code",
   "execution_count": null,
   "id": "dc5efe5c",
   "metadata": {},
   "outputs": [],
   "source": []
  },
  {
   "cell_type": "code",
   "execution_count": null,
   "id": "d3d8d038",
   "metadata": {},
   "outputs": [],
   "source": [
    "# DICTIONARY"
   ]
  },
  {
   "cell_type": "code",
   "execution_count": null,
   "id": "549afb50",
   "metadata": {},
   "outputs": [],
   "source": [
    "# dictionary['key'] = 'value'"
   ]
  },
  {
   "cell_type": "code",
   "execution_count": null,
   "id": "37fd7ce1",
   "metadata": {},
   "outputs": [],
   "source": []
  },
  {
   "cell_type": "code",
   "execution_count": null,
   "id": "8bd74fbb",
   "metadata": {},
   "outputs": [],
   "source": [
    "# PANDA FUNCTION"
   ]
  },
  {
   "cell_type": "code",
   "execution_count": null,
   "id": "2bcc5f34",
   "metadata": {},
   "outputs": [],
   "source": [
    "# path = 'filename.csv'"
   ]
  },
  {
   "cell_type": "code",
   "execution_count": null,
   "id": "8597b3af",
   "metadata": {},
   "outputs": [],
   "source": [
    "# DataFrame_name = pd.read_csv(path)"
   ]
  },
  {
   "cell_type": "code",
   "execution_count": null,
   "id": "3c801122",
   "metadata": {},
   "outputs": [],
   "source": [
    "# DataFrame.head() ->see the first rows"
   ]
  },
  {
   "cell_type": "code",
   "execution_count": null,
   "id": "4d8e657c",
   "metadata": {},
   "outputs": [],
   "source": [
    "# DataFrame[start idx : end idx] -> see index of rows"
   ]
  },
  {
   "cell_type": "code",
   "execution_count": null,
   "id": "77d4e8ab",
   "metadata": {},
   "outputs": [],
   "source": [
    "# DataFrame.columns -> see all the headers of columns"
   ]
  },
  {
   "cell_type": "code",
   "execution_count": null,
   "id": "4ea076e0",
   "metadata": {},
   "outputs": [],
   "source": [
    "# display(DataFrame) -> show all the rows and columns"
   ]
  },
  {
   "cell_type": "code",
   "execution_count": null,
   "id": "18ab0330",
   "metadata": {},
   "outputs": [],
   "source": [
    "# DataFrame.column header -> series, series is a single column in DataFrame"
   ]
  },
  {
   "cell_type": "code",
   "execution_count": null,
   "id": "48fcea37",
   "metadata": {},
   "outputs": [],
   "source": [
    "# DataFrame.loc[Dataframe.column header == x] -> locate to a row"
   ]
  },
  {
   "cell_type": "code",
   "execution_count": null,
   "id": "7be335fd",
   "metadata": {},
   "outputs": [],
   "source": [
    "# DataFrame.loc[DataFrame.column header == x, column header2]"
   ]
  },
  {
   "cell_type": "code",
   "execution_count": null,
   "id": "4ee5873a",
   "metadata": {},
   "outputs": [],
   "source": [
    "# .item() -> only get item"
   ]
  },
  {
   "cell_type": "code",
   "execution_count": null,
   "id": "6744e024",
   "metadata": {},
   "outputs": [],
   "source": [
    "# .column header.unique()->give a list of the header without repetation"
   ]
  },
  {
   "cell_type": "code",
   "execution_count": null,
   "id": "0a571096",
   "metadata": {},
   "outputs": [],
   "source": [
    "# DataFrame.column header.hist(bins=z, figsize=(x,y))\n",
    "# xlabel ('name1')\n",
    "# ylabe ('name2')\n",
    "# legend()\n",
    "# title('name3')"
   ]
  },
  {
   "cell_type": "code",
   "execution_count": 1,
   "id": "0ea21f58",
   "metadata": {},
   "outputs": [],
   "source": [
    "# .groupby() -> group by one column"
   ]
  },
  {
   "cell_type": "code",
   "execution_count": 2,
   "id": "75fd16ca",
   "metadata": {},
   "outputs": [],
   "source": [
    "# .median() -> find average number in a column"
   ]
  },
  {
   "cell_type": "code",
   "execution_count": null,
   "id": "ddf79ab7",
   "metadata": {},
   "outputs": [],
   "source": [
    "# .describe() -> gives us more information"
   ]
  },
  {
   "cell_type": "code",
   "execution_count": 3,
   "id": "04d6f8c9",
   "metadata": {},
   "outputs": [],
   "source": [
    "# .get_group('name').hp.hist ->gey a group for something"
   ]
  },
  {
   "cell_type": "code",
   "execution_count": 4,
   "id": "7f8e65b3",
   "metadata": {},
   "outputs": [],
   "source": [
    "# if there is a space in dot notation ['House Number']"
   ]
  },
  {
   "cell_type": "code",
   "execution_count": null,
   "id": "cd15f005",
   "metadata": {},
   "outputs": [],
   "source": [
    "# .tolist() ->make a panda column into a python list"
   ]
  },
  {
   "cell_type": "code",
   "execution_count": null,
   "id": "c90cf39b",
   "metadata": {},
   "outputs": [],
   "source": [
    "# .strip() -> gets rid of excess of whitespace"
   ]
  },
  {
   "cell_type": "code",
   "execution_count": null,
   "id": "80e1fc41",
   "metadata": {},
   "outputs": [],
   "source": [
    "# zip(a,b)->combines list x and list y\n",
    "# [a + ' ' + b for a,b in zip(x,y)] ->['a b','c d','e f']"
   ]
  }
 ],
 "metadata": {
  "kernelspec": {
   "display_name": "Python 3 (ipykernel)",
   "language": "python",
   "name": "python3"
  },
  "language_info": {
   "codemirror_mode": {
    "name": "ipython",
    "version": 3
   },
   "file_extension": ".py",
   "mimetype": "text/x-python",
   "name": "python",
   "nbconvert_exporter": "python",
   "pygments_lexer": "ipython3",
   "version": "3.11.0"
  }
 },
 "nbformat": 4,
 "nbformat_minor": 5
}
